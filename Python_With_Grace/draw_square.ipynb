{
 "cells": [
  {
   "cell_type": "code",
   "execution_count": 1,
   "id": "9142bad6",
   "metadata": {},
   "outputs": [],
   "source": [
    "import turtle\n",
    "t = turtle.Pen()"
   ]
  },
  {
   "cell_type": "code",
   "execution_count": null,
   "id": "029fad6b",
   "metadata": {},
   "outputs": [],
   "source": [
    "\n",
    "t.forward(50)\n",
    "t.left(90)\n",
    "t.forward(50)\n",
    "t.left(90)\n",
    "t.forward(50)\n",
    "t.left(90)\n",
    "t.forward(50)\n"
   ]
  },
  {
   "cell_type": "code",
   "execution_count": null,
   "id": "f3f90bab",
   "metadata": {},
   "outputs": [
    {
     "ename": "",
     "evalue": "",
     "output_type": "error",
     "traceback": [
      "\u001b[1;31mThe Kernel crashed while executing code in the current cell or a previous cell. \n",
      "\u001b[1;31mPlease review the code in the cell(s) to identify a possible cause of the failure. \n",
      "\u001b[1;31mClick <a href='https://aka.ms/vscodeJupyterKernelCrash'>here</a> for more info. \n",
      "\u001b[1;31mView Jupyter <a href='command:jupyter.viewOutput'>log</a> for further details."
     ]
    }
   ],
   "source": [
    "t.reset()"
   ]
  },
  {
   "cell_type": "code",
   "execution_count": 20,
   "id": "edd79de6",
   "metadata": {},
   "outputs": [],
   "source": [
    "t.color('purple')\n",
    "t.circle(50)"
   ]
  },
  {
   "cell_type": "code",
   "execution_count": 23,
   "id": "ef763f36",
   "metadata": {},
   "outputs": [],
   "source": [
    "t.reset()"
   ]
  },
  {
   "cell_type": "code",
   "execution_count": 22,
   "id": "59c2e187",
   "metadata": {},
   "outputs": [],
   "source": [
    "t.fillcolor(\"blue\")\n",
    "t.begin_fill()\n",
    "t.forward(30)\n",
    "t.left(90)\n",
    "t.forward(60)\n",
    "t.left(90)\n",
    "t.forward(30)\n",
    "t.left(90)\n",
    "t.forward(60)\n",
    "t.end_fill()"
   ]
  },
  {
   "cell_type": "code",
   "execution_count": 2,
   "id": "f7213f2a",
   "metadata": {},
   "outputs": [],
   "source": [
    "t.color('pink')\n",
    "t.circle(50)"
   ]
  },
  {
   "cell_type": "code",
   "execution_count": 3,
   "id": "8ccbdad2",
   "metadata": {},
   "outputs": [],
   "source": [
    "t.color('blue')\n",
    "t.circle(30)"
   ]
  },
  {
   "cell_type": "code",
   "execution_count": 4,
   "id": "4e4229f3",
   "metadata": {},
   "outputs": [],
   "source": [
    "t.color('purple')\n",
    "t.circle(20)"
   ]
  },
  {
   "cell_type": "code",
   "execution_count": 5,
   "id": "79fa67e9",
   "metadata": {},
   "outputs": [],
   "source": [
    "t.reset()"
   ]
  },
  {
   "cell_type": "code",
   "execution_count": null,
   "id": "b645b2b5",
   "metadata": {},
   "outputs": [
    {
     "ename": "",
     "evalue": "",
     "output_type": "error",
     "traceback": [
      "\u001b[1;31mThe Kernel crashed while executing code in the current cell or a previous cell. \n",
      "\u001b[1;31mPlease review the code in the cell(s) to identify a possible cause of the failure. \n",
      "\u001b[1;31mClick <a href='https://aka.ms/vscodeJupyterKernelCrash'>here</a> for more info. \n",
      "\u001b[1;31mView Jupyter <a href='command:jupyter.viewOutput'>log</a> for further details."
     ]
    }
   ],
   "source": [
    "t.forward(60)\n",
    "t.up()\n",
    "t.forward(10)\n",
    "t.left(90)\n",
    "t.forward(10)\n",
    "t.down()\n",
    "t.forward(60)\n",
    "t.up()\n",
    "t.forward(10)\n",
    "t.left(90)\n",
    "t.forward(10)\n",
    "t.down()\n",
    "t.forward(60)\n",
    "t.up()\n",
    "t.forward(10)\n",
    "t.left(90)\n",
    "t.forward(10)\n",
    "t.down()\n",
    "t.forward(60)\n",
    "t.up()\n",
    "t.forward(10)\n",
    "t.left(90)\n",
    "t.forward(10)\n",
    "t.down()\n"
   ]
  }
 ],
 "metadata": {
  "kernelspec": {
   "display_name": "python_0123",
   "language": "python",
   "name": "python3"
  },
  "language_info": {
   "codemirror_mode": {
    "name": "ipython",
    "version": 3
   },
   "file_extension": ".py",
   "mimetype": "text/x-python",
   "name": "python",
   "nbconvert_exporter": "python",
   "pygments_lexer": "ipython3",
   "version": "3.10.16"
  }
 },
 "nbformat": 4,
 "nbformat_minor": 5
}
