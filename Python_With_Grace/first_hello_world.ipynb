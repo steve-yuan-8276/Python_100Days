{
 "cells": [
  {
   "cell_type": "code",
   "execution_count": 12,
   "id": "aa18db95",
   "metadata": {},
   "outputs": [
    {
     "name": "stdout",
     "output_type": "stream",
     "text": [
      "hello world!!!\n"
     ]
    }
   ],
   "source": [
    "print(\"hello world!!!\")\n"
   ]
  },
  {
   "cell_type": "code",
   "execution_count": 13,
   "id": "76288897",
   "metadata": {},
   "outputs": [
    {
     "name": "stdout",
     "output_type": "stream",
     "text": [
      "bloobity bobity\n"
     ]
    }
   ],
   "source": [
    "print(\"bloobity bobity\" \\\n",
    "\"\")"
   ]
  },
  {
   "cell_type": "code",
   "execution_count": 14,
   "id": "8ae602ff",
   "metadata": {},
   "outputs": [
    {
     "name": "stdout",
     "output_type": "stream",
     "text": [
      "This is Grace.\n",
      "This is my first program.\n"
     ]
    }
   ],
   "source": [
    "print(\"This is Grace.\\nThis is my first program.\")"
   ]
  },
  {
   "cell_type": "code",
   "execution_count": 15,
   "id": "4c8ded83",
   "metadata": {},
   "outputs": [
    {
     "name": "stdout",
     "output_type": "stream",
     "text": [
      "\n",
      "This is Grace.\n",
      "This is my first program.\n",
      "\n"
     ]
    }
   ],
   "source": [
    "print('''\n",
    "This is Grace.\n",
    "This is my first program.\n",
    "''')"
   ]
  },
  {
   "cell_type": "markdown",
   "id": "d81391ba",
   "metadata": {},
   "source": [
    "## math"
   ]
  },
  {
   "cell_type": "code",
   "execution_count": 16,
   "id": "0588a026",
   "metadata": {},
   "outputs": [
    {
     "data": {
      "text/plain": [
       "2"
      ]
     },
     "execution_count": 16,
     "metadata": {},
     "output_type": "execute_result"
    }
   ],
   "source": [
    "1+1"
   ]
  },
  {
   "cell_type": "code",
   "execution_count": 17,
   "id": "62d07ed9",
   "metadata": {},
   "outputs": [
    {
     "data": {
      "text/plain": [
       "35"
      ]
     },
     "execution_count": 17,
     "metadata": {},
     "output_type": "execute_result"
    }
   ],
   "source": [
    "7*5\n"
   ]
  },
  {
   "cell_type": "code",
   "execution_count": 18,
   "id": "209411b3",
   "metadata": {},
   "outputs": [
    {
     "data": {
      "text/plain": [
       "10.0"
      ]
     },
     "execution_count": 18,
     "metadata": {},
     "output_type": "execute_result"
    }
   ],
   "source": [
    "70/7"
   ]
  },
  {
   "cell_type": "code",
   "execution_count": 19,
   "id": "19c0ba63",
   "metadata": {},
   "outputs": [
    {
     "data": {
      "text/plain": [
       "10"
      ]
     },
     "execution_count": 19,
     "metadata": {},
     "output_type": "execute_result"
    }
   ],
   "source": [
    "86-76"
   ]
  },
  {
   "cell_type": "code",
   "execution_count": 20,
   "id": "b79a47b9",
   "metadata": {},
   "outputs": [
    {
     "data": {
      "text/plain": [
       "15920205"
      ]
     },
     "execution_count": 20,
     "metadata": {},
     "output_type": "execute_result"
    }
   ],
   "source": [
    "2345*6789"
   ]
  },
  {
   "cell_type": "code",
   "execution_count": 21,
   "id": "0f16b2c0",
   "metadata": {},
   "outputs": [
    {
     "name": "stdout",
     "output_type": "stream",
     "text": [
      "i love pizza\n",
      "pizza\n",
      "pizza\n",
      "pizza\n",
      "pizza\n",
      "pizza\n",
      "pizza\n",
      "pizza\n",
      "pizza\n",
      "pizza\n",
      "pizza\n",
      "pizza\n",
      "pizza\n",
      "pizza\n",
      "pizza\n",
      "pizza\n",
      "pizza\n",
      "pizza\n",
      "pizza\n",
      "pizza\n",
      "pizza\n",
      "yummy\n",
      "yummy\n",
      "yummy\n",
      "yummy\n",
      "yummy\n",
      "yummy\n",
      "yummy\n",
      "yummy\n",
      "yummy\n",
      "yummy\n",
      "yummy\n",
      "yummy\n",
      "yummy\n",
      "yummy\n",
      "yummy\n",
      "yummy\n",
      "yummy\n",
      "yummy\n",
      "yummy\n",
      "yummy\n",
      "yummy\n",
      "yummy\n",
      "yummy\n",
      "yummy\n",
      "yummy\n",
      "yummy\n",
      "yummy\n",
      "yummy\n",
      "yummy\n",
      "yummy\n",
      "yummy\n",
      "yummy\n",
      "yummy\n",
      "yummy\n",
      "yummy\n",
      "yummy\n",
      "yummy\n",
      "yummy\n",
      "yummy\n",
      "yummy\n",
      "Im full\n"
     ]
    }
   ],
   "source": [
    "print(\"i love pizza\")\n",
    "for i in range(20):\n",
    "    print(\"pizza\")\n",
    "for i in range(40):\n",
    "    print(\"yummy\")\n",
    "print(\"Im full\")"
   ]
  }
 ],
 "metadata": {
  "kernelspec": {
   "display_name": "python_0123",
   "language": "python",
   "name": "python3"
  },
  "language_info": {
   "codemirror_mode": {
    "name": "ipython",
    "version": 3
   },
   "file_extension": ".py",
   "mimetype": "text/x-python",
   "name": "python",
   "nbconvert_exporter": "python",
   "pygments_lexer": "ipython3",
   "version": "3.10.16"
  }
 },
 "nbformat": 4,
 "nbformat_minor": 5
}
